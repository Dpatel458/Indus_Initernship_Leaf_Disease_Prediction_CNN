{
  "nbformat": 4,
  "nbformat_minor": 0,
  "metadata": {
    "colab": {
      "provenance": [],
      "gpuType": "T4"
    },
    "kernelspec": {
      "name": "python3",
      "display_name": "Python 3"
    },
    "language_info": {
      "name": "python"
    },
    "accelerator": "GPU"
  },
  "cells": [
    {
      "cell_type": "code",
      "source": [
        "import tensorflow as tf\n",
        "from tensorflow.keras.applications import ResNet50\n",
        "from tensorflow.keras.layers import GlobalAveragePooling2D, Dense, Dropout\n",
        "\n",
        "from tensorflow.keras.models import Model\n",
        "from tensorflow.keras.optimizers import Adam\n",
        "from tensorflow.keras.callbacks import EarlyStopping, ReduceLROnPlateau, ModelCheckpoint\n"
      ],
      "metadata": {
        "id": "fRJ1R-dGUPaF"
      },
      "execution_count": null,
      "outputs": []
    },
    {
      "cell_type": "code",
      "source": [
        "import kagglehub\n",
        "\n",
        "# Download latest version\n",
        "path = kagglehub.dataset_download(\"vipoooool/new-plant-diseases-dataset\")\n",
        "\n",
        "print(\"Path to dataset files:\", path)"
      ],
      "metadata": {
        "colab": {
          "base_uri": "https://localhost:8080/"
        },
        "id": "sFqAzgFwnXzW",
        "outputId": "31cfa167-067e-42d1-8d1b-8523c17eb9a1"
      },
      "execution_count": null,
      "outputs": [
        {
          "output_type": "stream",
          "name": "stdout",
          "text": [
            "Path to dataset files: /kaggle/input/new-plant-diseases-dataset\n"
          ]
        }
      ]
    },
    {
      "cell_type": "code",
      "source": [
        "train_dir =\"/kaggle/input/new-plant-diseases-dataset/New Plant Diseases Dataset(Augmented)/New Plant Diseases Dataset(Augmented)/train\"\n",
        "valid_dir = \"/kaggle/input/new-plant-diseases-dataset/New Plant Diseases Dataset(Augmented)/New Plant Diseases Dataset(Augmented)/valid\""
      ],
      "metadata": {
        "id": "tkpgcTc3BwwG"
      },
      "execution_count": null,
      "outputs": []
    },
    {
      "cell_type": "code",
      "source": [
        "import pathlib\n",
        "import numpy as np\n",
        "\n",
        "data_dir = pathlib.Path(train_dir)\n",
        "\n",
        "class_names = np.array(sorted([item.name for item in data_dir.glob(\"*\") if item.is_dir()]))\n",
        "print(class_names)\n"
      ],
      "metadata": {
        "colab": {
          "base_uri": "https://localhost:8080/"
        },
        "id": "IAVMKnpUCuSA",
        "outputId": "1fa3432e-8776-47a1-ec8e-59240aa2e37a"
      },
      "execution_count": null,
      "outputs": [
        {
          "output_type": "stream",
          "name": "stdout",
          "text": [
            "['Apple___Apple_scab' 'Apple___Black_rot' 'Apple___Cedar_apple_rust'\n",
            " 'Apple___healthy' 'Blueberry___healthy'\n",
            " 'Cherry_(including_sour)___Powdery_mildew'\n",
            " 'Cherry_(including_sour)___healthy'\n",
            " 'Corn_(maize)___Cercospora_leaf_spot Gray_leaf_spot'\n",
            " 'Corn_(maize)___Common_rust_' 'Corn_(maize)___Northern_Leaf_Blight'\n",
            " 'Corn_(maize)___healthy' 'Grape___Black_rot'\n",
            " 'Grape___Esca_(Black_Measles)'\n",
            " 'Grape___Leaf_blight_(Isariopsis_Leaf_Spot)' 'Grape___healthy'\n",
            " 'Orange___Haunglongbing_(Citrus_greening)' 'Peach___Bacterial_spot'\n",
            " 'Peach___healthy' 'Pepper,_bell___Bacterial_spot'\n",
            " 'Pepper,_bell___healthy' 'Potato___Early_blight' 'Potato___Late_blight'\n",
            " 'Potato___healthy' 'Raspberry___healthy' 'Soybean___healthy'\n",
            " 'Squash___Powdery_mildew' 'Strawberry___Leaf_scorch'\n",
            " 'Strawberry___healthy' 'Tomato___Bacterial_spot' 'Tomato___Early_blight'\n",
            " 'Tomato___Late_blight' 'Tomato___Leaf_Mold' 'Tomato___Septoria_leaf_spot'\n",
            " 'Tomato___Spider_mites Two-spotted_spider_mite' 'Tomato___Target_Spot'\n",
            " 'Tomato___Tomato_Yellow_Leaf_Curl_Virus' 'Tomato___Tomato_mosaic_virus'\n",
            " 'Tomato___healthy']\n"
          ]
        }
      ]
    },
    {
      "cell_type": "code",
      "source": [
        "import os\n",
        "import shutil\n",
        "from sklearn.model_selection import train_test_split\n",
        "\n",
        "source_train_dir = train_dir\n",
        "target_train20_dir = \"train80\"\n",
        "\n",
        "def create_train50_split():\n",
        "    if os.path.exists(target_train20_dir):\n",
        "        shutil.rmtree(target_train20_dir)\n",
        "    os.makedirs(target_train20_dir, exist_ok=True)\n",
        "\n",
        "    for class_name in os.listdir(source_train_dir):\n",
        "        class_path = os.path.join(source_train_dir, class_name)\n",
        "        if not os.path.isdir(class_path):\n",
        "            continue\n",
        "\n",
        "        images = os.listdir(class_path)\n",
        "        images = [img for img in images if img.lower().endswith((\".jpg\", \".jpeg\", \".png\"))]\n",
        "\n",
        "        # Split to 50%\n",
        "        train_half, _ = train_test_split(images, test_size=0.2, random_state=42)\n",
        "\n",
        "        # Create class folder in train50\n",
        "        class_target_path = os.path.join(target_train20_dir, class_name)\n",
        "        os.makedirs(class_target_path, exist_ok=True)\n",
        "\n",
        "        for img in train_half:\n",
        "            shutil.copy(os.path.join(class_path, img), os.path.join(class_target_path, img))\n",
        "\n",
        "    print(\"✅ 20% training data created in 'train50/' from 'data_augm/train/'.\")\n",
        "\n",
        "create_train50_split()"
      ],
      "metadata": {
        "colab": {
          "base_uri": "https://localhost:8080/"
        },
        "id": "RCs_6hiVPxED",
        "outputId": "089b6d27-13a8-4d67-830f-3bd290d1ea51"
      },
      "execution_count": null,
      "outputs": [
        {
          "output_type": "stream",
          "name": "stdout",
          "text": [
            "✅ 20% training data created in 'train50/' from 'data_augm/train/'.\n"
          ]
        }
      ]
    },
    {
      "cell_type": "code",
      "source": [
        "import os\n",
        "import shutil\n",
        "from sklearn.model_selection import train_test_split\n",
        "\n",
        "source_train_dir = valid_dir\n",
        "target_train20_dir = \"valid20_1\"\n",
        "\n",
        "def create_train50_split():\n",
        "    if os.path.exists(target_train20_dir):\n",
        "        shutil.rmtree(target_train20_dir)\n",
        "    os.makedirs(target_train20_dir, exist_ok=True)\n",
        "\n",
        "    for class_name in os.listdir(source_train_dir):\n",
        "        class_path = os.path.join(source_train_dir, class_name)\n",
        "        if not os.path.isdir(class_path):\n",
        "            continue\n",
        "\n",
        "        images = os.listdir(class_path)\n",
        "        images = [img for img in images if img.lower().endswith((\".jpg\", \".jpeg\", \".png\"))]\n",
        "\n",
        "        # Split to 50%\n",
        "        train_half, _ = train_test_split(images, test_size=0.75, random_state=42)\n",
        "\n",
        "        # Create class folder in train50\n",
        "        class_target_path = os.path.join(target_train20_dir, class_name)\n",
        "        os.makedirs(class_target_path, exist_ok=True)\n",
        "\n",
        "        for img in train_half:\n",
        "            shutil.copy(os.path.join(class_path, img), os.path.join(class_target_path, img))\n",
        "\n",
        "    print(\"✅ 20% training data created in 'train50/' from 'data_augm/train/'.\")\n",
        "\n",
        "create_train50_split()"
      ],
      "metadata": {
        "colab": {
          "base_uri": "https://localhost:8080/"
        },
        "id": "meTkG3leXZlh",
        "outputId": "34dd7289-cc7b-42cf-e14b-8eb283f10de6"
      },
      "execution_count": null,
      "outputs": [
        {
          "output_type": "stream",
          "name": "stdout",
          "text": [
            "✅ 20% training data created in 'train50/' from 'data_augm/train/'.\n"
          ]
        }
      ]
    },
    {
      "cell_type": "code",
      "source": [
        "train_ds = tf.keras.preprocessing.image_dataset_from_directory(\n",
        "    train_dir, image_size=(128, 128), batch_size=16)\n",
        "\n",
        "val_ds = tf.keras.preprocessing.image_dataset_from_directory(\n",
        "    valid_dir, image_size=(128, 128), batch_size=16)\n",
        "\n"
      ],
      "metadata": {
        "colab": {
          "base_uri": "https://localhost:8080/"
        },
        "id": "ZtiLDXNkTavs",
        "outputId": "a2c88ead-12f0-40d4-a566-b7ba1401ce33"
      },
      "execution_count": null,
      "outputs": [
        {
          "output_type": "stream",
          "name": "stdout",
          "text": [
            "Found 70295 files belonging to 38 classes.\n",
            "Found 17572 files belonging to 38 classes.\n"
          ]
        }
      ]
    },
    {
      "cell_type": "code",
      "source": [
        "\n",
        "\n",
        "# Load datasets\n",
        "img_size = (128, 128)\n",
        "batch_size = 16\n",
        "\n",
        "num_classes = len(class_names)\n",
        "\n",
        "\n",
        "\n",
        "# Build base model\n",
        "base_model = ResNet50(weights='imagenet', include_top=False, input_shape=(128, 128, 3))\n",
        "base_model.trainable = False  # Freeze initially\n",
        "\n",
        "# Custom head\n",
        "x = base_model.output\n",
        "x = GlobalAveragePooling2D()(x)\n",
        "x = Dropout(0.5)(x)\n",
        "x = Dense(256, activation='relu')(x)\n",
        "x = Dropout(0.3)(x)\n",
        "outputs = Dense(num_classes, activation='softmax')(x)\n",
        "\n",
        "model_resnet_50 = Model(inputs=base_model.input, outputs=outputs)\n",
        "\n",
        "\n",
        "# Callbacks\n",
        "early_stop = EarlyStopping(monitor='val_loss', patience=4, restore_best_weights=True)\n",
        "reduce_lr = ReduceLROnPlateau(monitor='val_loss', factor=0.5, patience=2)\n",
        "model_ckpt = ModelCheckpoint(\"best_model.keras\", save_best_only=True, monitor='val_loss')\n",
        "\n",
        "\n",
        "# Stage 2: Fine-tune top 50 layers\n",
        "base_model.trainable = True\n",
        "for layer in base_model.layers[:-50]:  # Freeze all but the last 25 layers\n",
        "    layer.trainable = False\n",
        "\n",
        "# Recompile with lower LR\n",
        "model_resnet_50.compile(optimizer=Adam(1e-5),\n",
        "              loss='sparse_categorical_crossentropy',\n",
        "              metrics=['accuracy'])\n",
        "\n",
        "# Fine-tune\n",
        "history_50_percent_resnet_fine = model_resnet_50.fit(train_ds,\n",
        "                     epochs=6,\n",
        "                     validation_data=val_ds,\n",
        "                     callbacks=[early_stop, reduce_lr, model_ckpt])"
      ],
      "metadata": {
        "colab": {
          "base_uri": "https://localhost:8080/"
        },
        "id": "ovuV2d1vTqsW",
        "outputId": "e854ccd8-3d10-41c7-bcd8-1580b740c558"
      },
      "execution_count": null,
      "outputs": [
        {
          "output_type": "stream",
          "name": "stdout",
          "text": [
            "Downloading data from https://storage.googleapis.com/tensorflow/keras-applications/resnet/resnet50_weights_tf_dim_ordering_tf_kernels_notop.h5\n",
            "\u001b[1m94765736/94765736\u001b[0m \u001b[32m━━━━━━━━━━━━━━━━━━━━\u001b[0m\u001b[37m\u001b[0m \u001b[1m0s\u001b[0m 0us/step\n",
            "Epoch 1/6\n",
            "\u001b[1m4394/4394\u001b[0m \u001b[32m━━━━━━━━━━━━━━━━━━━━\u001b[0m\u001b[37m\u001b[0m \u001b[1m337s\u001b[0m 71ms/step - accuracy: 0.3803 - loss: 2.4577 - val_accuracy: 0.9410 - val_loss: 0.1884 - learning_rate: 1.0000e-05\n",
            "Epoch 2/6\n",
            "\u001b[1m4394/4394\u001b[0m \u001b[32m━━━━━━━━━━━━━━━━━━━━\u001b[0m\u001b[37m\u001b[0m \u001b[1m222s\u001b[0m 51ms/step - accuracy: 0.8871 - loss: 0.3758 - val_accuracy: 0.9709 - val_loss: 0.0892 - learning_rate: 1.0000e-05\n",
            "Epoch 3/6\n",
            "\u001b[1m4394/4394\u001b[0m \u001b[32m━━━━━━━━━━━━━━━━━━━━\u001b[0m\u001b[37m\u001b[0m \u001b[1m223s\u001b[0m 51ms/step - accuracy: 0.9448 - loss: 0.1791 - val_accuracy: 0.9822 - val_loss: 0.0585 - learning_rate: 1.0000e-05\n",
            "Epoch 4/6\n",
            "\u001b[1m4394/4394\u001b[0m \u001b[32m━━━━━━━━━━━━━━━━━━━━\u001b[0m\u001b[37m\u001b[0m \u001b[1m261s\u001b[0m 51ms/step - accuracy: 0.9713 - loss: 0.0966 - val_accuracy: 0.9855 - val_loss: 0.0477 - learning_rate: 1.0000e-05\n",
            "Epoch 5/6\n",
            "\u001b[1m4394/4394\u001b[0m \u001b[32m━━━━━━━━━━━━━━━━━━━━\u001b[0m\u001b[37m\u001b[0m \u001b[1m262s\u001b[0m 51ms/step - accuracy: 0.9808 - loss: 0.0634 - val_accuracy: 0.9865 - val_loss: 0.0454 - learning_rate: 1.0000e-05\n",
            "Epoch 6/6\n",
            "\u001b[1m4394/4394\u001b[0m \u001b[32m━━━━━━━━━━━━━━━━━━━━\u001b[0m\u001b[37m\u001b[0m \u001b[1m222s\u001b[0m 50ms/step - accuracy: 0.9873 - loss: 0.0405 - val_accuracy: 0.9873 - val_loss: 0.0446 - learning_rate: 1.0000e-05\n"
          ]
        }
      ]
    },
    {
      "cell_type": "code",
      "source": [
        "model_resnet_50.save('ResNet50_Unfreeze.h5')"
      ],
      "metadata": {
        "colab": {
          "base_uri": "https://localhost:8080/"
        },
        "id": "b6oZ9WBmVnya",
        "outputId": "192e6352-117c-4ae3-db38-2a5120a9ffd2"
      },
      "execution_count": null,
      "outputs": [
        {
          "output_type": "stream",
          "name": "stderr",
          "text": [
            "WARNING:absl:You are saving your model as an HDF5 file via `model.save()` or `keras.saving.save_model(model)`. This file format is considered legacy. We recommend using instead the native Keras format, e.g. `model.save('my_model.keras')` or `keras.saving.save_model(model, 'my_model.keras')`. \n"
          ]
        }
      ]
    },
    {
      "cell_type": "code",
      "source": [
        "model_resnet_50.evaluate(val_ds)"
      ],
      "metadata": {
        "colab": {
          "base_uri": "https://localhost:8080/"
        },
        "id": "1s0wNBLZdkWF",
        "outputId": "b48eb31e-75e7-437f-c475-a416fb92e499"
      },
      "execution_count": null,
      "outputs": [
        {
          "output_type": "stream",
          "name": "stdout",
          "text": [
            "\u001b[1m1099/1099\u001b[0m \u001b[32m━━━━━━━━━━━━━━━━━━━━\u001b[0m\u001b[37m\u001b[0m \u001b[1m22s\u001b[0m 20ms/step - accuracy: 0.9802 - loss: 0.0630\n"
          ]
        },
        {
          "output_type": "execute_result",
          "data": {
            "text/plain": [
              "[0.059923190623521805, 0.9808786511421204]"
            ]
          },
          "metadata": {},
          "execution_count": 16
        }
      ]
    },
    {
      "cell_type": "code",
      "source": [
        "from google.colab import files\n",
        "files.upload()"
      ],
      "metadata": {
        "colab": {
          "base_uri": "https://localhost:8080/",
          "height": 973
        },
        "id": "MHXcJYrHxyFA",
        "outputId": "381e56cd-d83d-41bc-c426-a57067eb958f"
      },
      "execution_count": null,
      "outputs": [
        {
          "output_type": "display_data",
          "data": {
            "text/plain": [
              "<IPython.core.display.HTML object>"
            ],
            "text/html": [
              "\n",
              "     <input type=\"file\" id=\"files-e9ffbe3a-0e31-44a9-a689-cdeedaa35bb4\" name=\"files[]\" multiple disabled\n",
              "        style=\"border:none\" />\n",
              "     <output id=\"result-e9ffbe3a-0e31-44a9-a689-cdeedaa35bb4\">\n",
              "      Upload widget is only available when the cell has been executed in the\n",
              "      current browser session. Please rerun this cell to enable.\n",
              "      </output>\n",
              "      <script>// Copyright 2017 Google LLC\n",
              "//\n",
              "// Licensed under the Apache License, Version 2.0 (the \"License\");\n",
              "// you may not use this file except in compliance with the License.\n",
              "// You may obtain a copy of the License at\n",
              "//\n",
              "//      http://www.apache.org/licenses/LICENSE-2.0\n",
              "//\n",
              "// Unless required by applicable law or agreed to in writing, software\n",
              "// distributed under the License is distributed on an \"AS IS\" BASIS,\n",
              "// WITHOUT WARRANTIES OR CONDITIONS OF ANY KIND, either express or implied.\n",
              "// See the License for the specific language governing permissions and\n",
              "// limitations under the License.\n",
              "\n",
              "/**\n",
              " * @fileoverview Helpers for google.colab Python module.\n",
              " */\n",
              "(function(scope) {\n",
              "function span(text, styleAttributes = {}) {\n",
              "  const element = document.createElement('span');\n",
              "  element.textContent = text;\n",
              "  for (const key of Object.keys(styleAttributes)) {\n",
              "    element.style[key] = styleAttributes[key];\n",
              "  }\n",
              "  return element;\n",
              "}\n",
              "\n",
              "// Max number of bytes which will be uploaded at a time.\n",
              "const MAX_PAYLOAD_SIZE = 100 * 1024;\n",
              "\n",
              "function _uploadFiles(inputId, outputId) {\n",
              "  const steps = uploadFilesStep(inputId, outputId);\n",
              "  const outputElement = document.getElementById(outputId);\n",
              "  // Cache steps on the outputElement to make it available for the next call\n",
              "  // to uploadFilesContinue from Python.\n",
              "  outputElement.steps = steps;\n",
              "\n",
              "  return _uploadFilesContinue(outputId);\n",
              "}\n",
              "\n",
              "// This is roughly an async generator (not supported in the browser yet),\n",
              "// where there are multiple asynchronous steps and the Python side is going\n",
              "// to poll for completion of each step.\n",
              "// This uses a Promise to block the python side on completion of each step,\n",
              "// then passes the result of the previous step as the input to the next step.\n",
              "function _uploadFilesContinue(outputId) {\n",
              "  const outputElement = document.getElementById(outputId);\n",
              "  const steps = outputElement.steps;\n",
              "\n",
              "  const next = steps.next(outputElement.lastPromiseValue);\n",
              "  return Promise.resolve(next.value.promise).then((value) => {\n",
              "    // Cache the last promise value to make it available to the next\n",
              "    // step of the generator.\n",
              "    outputElement.lastPromiseValue = value;\n",
              "    return next.value.response;\n",
              "  });\n",
              "}\n",
              "\n",
              "/**\n",
              " * Generator function which is called between each async step of the upload\n",
              " * process.\n",
              " * @param {string} inputId Element ID of the input file picker element.\n",
              " * @param {string} outputId Element ID of the output display.\n",
              " * @return {!Iterable<!Object>} Iterable of next steps.\n",
              " */\n",
              "function* uploadFilesStep(inputId, outputId) {\n",
              "  const inputElement = document.getElementById(inputId);\n",
              "  inputElement.disabled = false;\n",
              "\n",
              "  const outputElement = document.getElementById(outputId);\n",
              "  outputElement.innerHTML = '';\n",
              "\n",
              "  const pickedPromise = new Promise((resolve) => {\n",
              "    inputElement.addEventListener('change', (e) => {\n",
              "      resolve(e.target.files);\n",
              "    });\n",
              "  });\n",
              "\n",
              "  const cancel = document.createElement('button');\n",
              "  inputElement.parentElement.appendChild(cancel);\n",
              "  cancel.textContent = 'Cancel upload';\n",
              "  const cancelPromise = new Promise((resolve) => {\n",
              "    cancel.onclick = () => {\n",
              "      resolve(null);\n",
              "    };\n",
              "  });\n",
              "\n",
              "  // Wait for the user to pick the files.\n",
              "  const files = yield {\n",
              "    promise: Promise.race([pickedPromise, cancelPromise]),\n",
              "    response: {\n",
              "      action: 'starting',\n",
              "    }\n",
              "  };\n",
              "\n",
              "  cancel.remove();\n",
              "\n",
              "  // Disable the input element since further picks are not allowed.\n",
              "  inputElement.disabled = true;\n",
              "\n",
              "  if (!files) {\n",
              "    return {\n",
              "      response: {\n",
              "        action: 'complete',\n",
              "      }\n",
              "    };\n",
              "  }\n",
              "\n",
              "  for (const file of files) {\n",
              "    const li = document.createElement('li');\n",
              "    li.append(span(file.name, {fontWeight: 'bold'}));\n",
              "    li.append(span(\n",
              "        `(${file.type || 'n/a'}) - ${file.size} bytes, ` +\n",
              "        `last modified: ${\n",
              "            file.lastModifiedDate ? file.lastModifiedDate.toLocaleDateString() :\n",
              "                                    'n/a'} - `));\n",
              "    const percent = span('0% done');\n",
              "    li.appendChild(percent);\n",
              "\n",
              "    outputElement.appendChild(li);\n",
              "\n",
              "    const fileDataPromise = new Promise((resolve) => {\n",
              "      const reader = new FileReader();\n",
              "      reader.onload = (e) => {\n",
              "        resolve(e.target.result);\n",
              "      };\n",
              "      reader.readAsArrayBuffer(file);\n",
              "    });\n",
              "    // Wait for the data to be ready.\n",
              "    let fileData = yield {\n",
              "      promise: fileDataPromise,\n",
              "      response: {\n",
              "        action: 'continue',\n",
              "      }\n",
              "    };\n",
              "\n",
              "    // Use a chunked sending to avoid message size limits. See b/62115660.\n",
              "    let position = 0;\n",
              "    do {\n",
              "      const length = Math.min(fileData.byteLength - position, MAX_PAYLOAD_SIZE);\n",
              "      const chunk = new Uint8Array(fileData, position, length);\n",
              "      position += length;\n",
              "\n",
              "      const base64 = btoa(String.fromCharCode.apply(null, chunk));\n",
              "      yield {\n",
              "        response: {\n",
              "          action: 'append',\n",
              "          file: file.name,\n",
              "          data: base64,\n",
              "        },\n",
              "      };\n",
              "\n",
              "      let percentDone = fileData.byteLength === 0 ?\n",
              "          100 :\n",
              "          Math.round((position / fileData.byteLength) * 100);\n",
              "      percent.textContent = `${percentDone}% done`;\n",
              "\n",
              "    } while (position < fileData.byteLength);\n",
              "  }\n",
              "\n",
              "  // All done.\n",
              "  yield {\n",
              "    response: {\n",
              "      action: 'complete',\n",
              "    }\n",
              "  };\n",
              "}\n",
              "\n",
              "scope.google = scope.google || {};\n",
              "scope.google.colab = scope.google.colab || {};\n",
              "scope.google.colab._files = {\n",
              "  _uploadFiles,\n",
              "  _uploadFilesContinue,\n",
              "};\n",
              "})(self);\n",
              "</script> "
            ]
          },
          "metadata": {}
        },
        {
          "output_type": "stream",
          "name": "stdout",
          "text": [
            "Saving helper_functions.py to helper_functions (1).py\n"
          ]
        },
        {
          "output_type": "execute_result",
          "data": {
            "text/plain": [
              "{'helper_functions (1).py': b'### We create a bunch of helpful functions throughout the course.\\n### Storing them here so they\\'re easily accessible.\\n\\nimport tensorflow as tf\\n\\n# Create a function to import an image and resize it to be able to be used with our model\\ndef load_and_prep_image(filename, img_shape=224, scale=True):\\n  \"\"\"\\n  Reads in an image from filename, turns it into a tensor and reshapes into\\n  (224, 224, 3).\\n\\n  Parameters\\n  ----------\\n  filename (str): string filename of target image\\n  img_shape (int): size to resize target image to, default 224\\n  scale (bool): whether to scale pixel values to range(0, 1), default True\\n  \"\"\"\\n  # Read in the image\\n  img = tf.io.read_file(filename)\\n  # Decode it into a tensor\\n  img = tf.image.decode_jpeg(img)\\n  # Resize the image\\n  img = tf.image.resize(img, [img_shape, img_shape])\\n  if scale:\\n    # Rescale the image (get all values between 0 and 1)\\n    return img/255.\\n  else:\\n    return img\\n\\n# Note: The following confusion matrix code is a remix of Scikit-Learn\\'s \\n# plot_confusion_matrix function - https://scikit-learn.org/stable/modules/generated/sklearn.metrics.plot_confusion_matrix.html\\nimport itertools\\nimport matplotlib.pyplot as plt\\nimport numpy as np\\nfrom sklearn.metrics import confusion_matrix\\n\\n# Our function needs a different name to sklearn\\'s plot_confusion_matrix\\ndef make_confusion_matrix(y_true, y_pred, classes=None, figsize=(10, 10), text_size=15, norm=False, savefig=False): \\n  \"\"\"Makes a labelled confusion matrix comparing predictions and ground truth labels.\\n\\n  If classes is passed, confusion matrix will be labelled, if not, integer class values\\n  will be used.\\n\\n  Args:\\n    y_true: Array of truth labels (must be same shape as y_pred).\\n    y_pred: Array of predicted labels (must be same shape as y_true).\\n    classes: Array of class labels (e.g. string form). If `None`, integer labels are used.\\n    figsize: Size of output figure (default=(10, 10)).\\n    text_size: Size of output figure text (default=15).\\n    norm: normalize values or not (default=False).\\n    savefig: save confusion matrix to file (default=False).\\n  \\n  Returns:\\n    A labelled confusion matrix plot comparing y_true and y_pred.\\n\\n  Example usage:\\n    make_confusion_matrix(y_true=test_labels, # ground truth test labels\\n                          y_pred=y_preds, # predicted labels\\n                          classes=class_names, # array of class label names\\n                          figsize=(15, 15),\\n                          text_size=10)\\n  \"\"\"  \\n  # Create the confustion matrix\\n  cm = confusion_matrix(y_true, y_pred)\\n  cm_norm = cm.astype(\"float\") / cm.sum(axis=1)[:, np.newaxis] # normalize it\\n  n_classes = cm.shape[0] # find the number of classes we\\'re dealing with\\n\\n  # Plot the figure and make it pretty\\n  fig, ax = plt.subplots(figsize=figsize)\\n  cax = ax.matshow(cm, cmap=plt.cm.Blues) # colors will represent how \\'correct\\' a class is, darker == better\\n  fig.colorbar(cax)\\n\\n  # Are there a list of classes?\\n  if classes:\\n    labels = classes\\n  else:\\n    labels = np.arange(cm.shape[0])\\n  \\n  # Label the axes\\n  ax.set(title=\"Confusion Matrix\",\\n         xlabel=\"Predicted label\",\\n         ylabel=\"True label\",\\n         xticks=np.arange(n_classes), # create enough axis slots for each class\\n         yticks=np.arange(n_classes), \\n         xticklabels=labels, # axes will labeled with class names (if they exist) or ints\\n         yticklabels=labels)\\n  \\n  # Make x-axis labels appear on bottom\\n  ax.xaxis.set_label_position(\"bottom\")\\n  ax.xaxis.tick_bottom()\\n\\n  # Set the threshold for different colors\\n  threshold = (cm.max() + cm.min()) / 2.\\n\\n  # Plot the text on each cell\\n  for i, j in itertools.product(range(cm.shape[0]), range(cm.shape[1])):\\n    if norm:\\n      plt.text(j, i, f\"{cm[i, j]} ({cm_norm[i, j]*100:.1f}%)\",\\n              horizontalalignment=\"center\",\\n              color=\"white\" if cm[i, j] > threshold else \"black\",\\n              size=text_size)\\n    else:\\n      plt.text(j, i, f\"{cm[i, j]}\",\\n              horizontalalignment=\"center\",\\n              color=\"white\" if cm[i, j] > threshold else \"black\",\\n              size=text_size)\\n\\n  # Save the figure to the current working directory\\n  if savefig:\\n    fig.savefig(\"confusion_matrix.png\")\\n  \\n# Make a function to predict on images and plot them (works with multi-class)\\ndef pred_and_plot(model, filename, class_names):\\n  \"\"\"\\n  Imports an image located at filename, makes a prediction on it with\\n  a trained model and plots the image with the predicted class as the title.\\n  \"\"\"\\n  # Import the target image and preprocess it\\n  img = load_and_prep_image(filename)\\n\\n  # Make a prediction\\n  pred = model.predict(tf.expand_dims(img, axis=0))\\n\\n  # Get the predicted class\\n  if len(pred[0]) > 1: # check for multi-class\\n    pred_class = class_names[pred.argmax()] # if more than one output, take the max\\n  else:\\n    pred_class = class_names[int(tf.round(pred)[0][0])] # if only one output, round\\n\\n  # Plot the image and predicted class\\n  plt.imshow(img)\\n  plt.title(f\"Prediction: {pred_class}\")\\n  plt.axis(False);\\n  \\nimport datetime\\n\\ndef create_tensorboard_callback(dir_name, experiment_name):\\n  \"\"\"\\n  Creates a TensorBoard callback instand to store log files.\\n\\n  Stores log files with the filepath:\\n    \"dir_name/experiment_name/current_datetime/\"\\n\\n  Args:\\n    dir_name: target directory to store TensorBoard log files\\n    experiment_name: name of experiment directory (e.g. efficientnet_model_1)\\n  \"\"\"\\n  log_dir = dir_name + \"/\" + experiment_name + \"/\" + datetime.datetime.now().strftime(\"%Y%m%d-%H%M%S\")\\n  tensorboard_callback = tf.keras.callbacks.TensorBoard(\\n      log_dir=log_dir\\n  )\\n  print(f\"Saving TensorBoard log files to: {log_dir}\")\\n  return tensorboard_callback\\n\\n# Plot the validation and training data separately\\nimport matplotlib.pyplot as plt\\n\\ndef plot_loss_curves(history):\\n  \"\"\"\\n  Returns separate loss curves for training and validation metrics.\\n\\n  Args:\\n    history: TensorFlow model History object (see: https://www.tensorflow.org/api_docs/python/tf/keras/callbacks/History)\\n  \"\"\" \\n  loss = history.history[\\'loss\\']\\n  val_loss = history.history[\\'val_loss\\']\\n\\n  accuracy = history.history[\\'accuracy\\']\\n  val_accuracy = history.history[\\'val_accuracy\\']\\n\\n  epochs = range(len(history.history[\\'loss\\']))\\n\\n  # Plot loss\\n  plt.plot(epochs, loss, label=\\'training_loss\\')\\n  plt.plot(epochs, val_loss, label=\\'val_loss\\')\\n  plt.title(\\'Loss\\')\\n  plt.xlabel(\\'Epochs\\')\\n  plt.legend()\\n\\n  # Plot accuracy\\n  plt.figure()\\n  plt.plot(epochs, accuracy, label=\\'training_accuracy\\')\\n  plt.plot(epochs, val_accuracy, label=\\'val_accuracy\\')\\n  plt.title(\\'Accuracy\\')\\n  plt.xlabel(\\'Epochs\\')\\n  plt.legend();\\n\\ndef compare_historys(original_history, new_history, initial_epochs=5):\\n    \"\"\"\\n    Compares two TensorFlow model History objects.\\n    \\n    Args:\\n      original_history: History object from original model (before new_history)\\n      new_history: History object from continued model training (after original_history)\\n      initial_epochs: Number of epochs in original_history (new_history plot starts from here) \\n    \"\"\"\\n    \\n    # Get original history measurements\\n    acc = original_history.history[\"accuracy\"]\\n    loss = original_history.history[\"loss\"]\\n\\n    val_acc = original_history.history[\"val_accuracy\"]\\n    val_loss = original_history.history[\"val_loss\"]\\n\\n    # Combine original history with new history\\n    total_acc = acc + new_history.history[\"accuracy\"]\\n    total_loss = loss + new_history.history[\"loss\"]\\n\\n    total_val_acc = val_acc + new_history.history[\"val_accuracy\"]\\n    total_val_loss = val_loss + new_history.history[\"val_loss\"]\\n\\n    # Make plots\\n    plt.figure(figsize=(8, 8))\\n    plt.subplot(2, 1, 1)\\n    plt.plot(total_acc, label=\\'Training Accuracy\\')\\n    plt.plot(total_val_acc, label=\\'Validation Accuracy\\')\\n    plt.plot([initial_epochs-1, initial_epochs-1],\\n              plt.ylim(), label=\\'Start Fine Tuning\\') # reshift plot around epochs\\n    plt.legend(loc=\\'lower right\\')\\n    plt.title(\\'Training and Validation Accuracy\\')\\n\\n    plt.subplot(2, 1, 2)\\n    plt.plot(total_loss, label=\\'Training Loss\\')\\n    plt.plot(total_val_loss, label=\\'Validation Loss\\')\\n    plt.plot([initial_epochs-1, initial_epochs-1],\\n              plt.ylim(), label=\\'Start Fine Tuning\\') # reshift plot around epochs\\n    plt.legend(loc=\\'upper right\\')\\n    plt.title(\\'Training and Validation Loss\\')\\n    plt.xlabel(\\'epoch\\')\\n    plt.show()\\n  \\n# Create function to unzip a zipfile into current working directory \\n# (since we\\'re going to be downloading and unzipping a few files)\\nimport zipfile\\n\\ndef unzip_data(filename):\\n  \"\"\"\\n  Unzips filename into the current working directory.\\n\\n  Args:\\n    filename (str): a filepath to a target zip folder to be unzipped.\\n  \"\"\"\\n  zip_ref = zipfile.ZipFile(filename, \"r\")\\n  zip_ref.extractall()\\n  zip_ref.close()\\n\\n# Walk through an image classification directory and find out how many files (images)\\n# are in each subdirectory.\\nimport os\\n\\ndef walk_through_dir(dir_path):\\n  \"\"\"\\n  Walks through dir_path returning its contents.\\n\\n  Args:\\n    dir_path (str): target directory\\n  \\n  Returns:\\n    A print out of:\\n      number of subdiretories in dir_path\\n      number of images (files) in each subdirectory\\n      name of each subdirectory\\n  \"\"\"\\n  for dirpath, dirnames, filenames in os.walk(dir_path):\\n    print(f\"There are {len(dirnames)} directories and {len(filenames)} images in \\'{dirpath}\\'.\")\\n    \\n# Function to evaluate: accuracy, precision, recall, f1-score\\nfrom sklearn.metrics import accuracy_score, precision_recall_fscore_support\\n\\ndef calculate_results(y_true, y_pred):\\n  \"\"\"\\n  Calculates model accuracy, precision, recall and f1 score of a binary classification model.\\n\\n  Args:\\n      y_true: true labels in the form of a 1D array\\n      y_pred: predicted labels in the form of a 1D array\\n\\n  Returns a dictionary of accuracy, precision, recall, f1-score.\\n  \"\"\"\\n  # Calculate model accuracy\\n  model_accuracy = accuracy_score(y_true, y_pred) * 100\\n  # Calculate model precision, recall and f1 score using \"weighted average\\n  model_precision, model_recall, model_f1, _ = precision_recall_fscore_support(y_true, y_pred, average=\"weighted\")\\n  model_results = {\"accuracy\": model_accuracy,\\n                  \"precision\": model_precision,\\n                  \"recall\": model_recall,\\n                  \"f1\": model_f1}\\n  return model_results\\n'}"
            ]
          },
          "metadata": {},
          "execution_count": 13
        }
      ]
    },
    {
      "cell_type": "code",
      "source": [
        "import helper_functions\n",
        "from helper_functions import compare_historys, plot_loss_curves"
      ],
      "metadata": {
        "id": "sgSfLHSIxiz-"
      },
      "execution_count": null,
      "outputs": []
    },
    {
      "cell_type": "code",
      "source": [
        "compare_historys(history_50_percent_resnet, history_50_percent_resnet_fine)"
      ],
      "metadata": {
        "colab": {
          "base_uri": "https://localhost:8080/",
          "height": 718
        },
        "id": "LEvSWnggpf-O",
        "outputId": "ce0b7257-072d-4448-d660-37c83d24fd91"
      },
      "execution_count": null,
      "outputs": [
        {
          "output_type": "display_data",
          "data": {
            "text/plain": [
              "<Figure size 800x800 with 2 Axes>"
            ],
            "image/png": "[encoded data removed]"
          },
          "metadata": {}
        }
      ]
    },
    {
      "cell_type": "code",
      "source": [
        "plot_loss_curves(history_50_percent_resnet_fine)"
      ],
      "metadata": {
        "colab": {
          "base_uri": "https://localhost:8080/",
          "height": 927
        },
        "id": "344IdpCIpf1t",
        "outputId": "d3ac59b8-fca4-41ee-9961-2c573281efea"
      },
      "execution_count": null,
      "outputs": [
        {
          "output_type": "display_data",
          "data": {
            "text/plain": [
              "<Figure size 640x480 with 1 Axes>"
            ],
            "image/png": "[encoded data removed]"
          },
          "metadata": {}
        },
        {
          "output_type": "display_data",
          "data": {
            "text/plain": [
              "<Figure size 640x480 with 1 Axes>"
            ],
            "image/png": "[encoded data removed]"
          },
          "metadata": {}
        }
      ]
    },
    {
      "cell_type": "code",
      "source": [],
      "metadata": {
        "id": "GTO8VImWpfst"
      },
      "execution_count": null,
      "outputs": []
    },
    {
      "cell_type": "code",
      "source": [],
      "metadata": {
        "id": "6JzBoT9Hpfe_"
      },
      "execution_count": null,
      "outputs": []
    },
    {
      "cell_type": "code",
      "source": [
        "from tensorflow.keras.models import load_model\n",
        "import tensorflow as tf\n",
        "import helper_functions\n",
        "\n",
        "model=load_model('fine_tune_100_percent_resnet20.h5')\n",
        "model.evaluate(val_ds)"
      ],
      "metadata": {
        "id": "-J6KHOCkeHUj",
        "colab": {
          "base_uri": "https://localhost:8080/"
        },
        "outputId": "1c78512d-0104-4113-f32a-e6f8e9ec07c6"
      },
      "execution_count": null,
      "outputs": [
        {
          "output_type": "stream",
          "name": "stderr",
          "text": [
            "WARNING:absl:Compiled the loaded model, but the compiled metrics have yet to be built. `model.compile_metrics` will be empty until you train or evaluate the model.\n"
          ]
        },
        {
          "output_type": "stream",
          "name": "stdout",
          "text": [
            "\u001b[1m1099/1099\u001b[0m \u001b[32m━━━━━━━━━━━━━━━━━━━━\u001b[0m\u001b[37m\u001b[0m \u001b[1m58s\u001b[0m 46ms/step - accuracy: 0.9806 - loss: 0.0600\n"
          ]
        },
        {
          "output_type": "execute_result",
          "data": {
            "text/plain": [
              "[0.0599231980741024, 0.9808786511421204]"
            ]
          },
          "metadata": {},
          "execution_count": 7
        }
      ]
    },
    {
      "cell_type": "code",
      "source": [],
      "metadata": {
        "colab": {
          "base_uri": "https://localhost:8080/",
          "height": 141
        },
        "id": "2wo8uZd6pNrk",
        "outputId": "2a40c34e-582a-4995-e1db-d8e740e59821"
      },
      "execution_count": null,
      "outputs": [
        {
          "output_type": "error",
          "ename": "NameError",
          "evalue": "name 'plot_loss_curves' is not defined",
          "traceback": [
            "\u001b[0;31m---------------------------------------------------------------------------\u001b[0m",
            "\u001b[0;31mNameError\u001b[0m                                 Traceback (most recent call last)",
            "\u001b[0;32m/tmp/ipython-input-8-3991322176.py\u001b[0m in \u001b[0;36m<cell line: 0>\u001b[0;34m()\u001b[0m\n\u001b[0;32m----> 1\u001b[0;31m \u001b[0mplot_loss_curves\u001b[0m\u001b[0;34m(\u001b[0m\u001b[0mhistory_50_percent_resnet_fine\u001b[0m\u001b[0;34m)\u001b[0m\u001b[0;34m\u001b[0m\u001b[0;34m\u001b[0m\u001b[0m\n\u001b[0m",
            "\u001b[0;31mNameError\u001b[0m: name 'plot_loss_curves' is not defined"
          ]
        }
      ]
    },
    {
      "cell_type": "code",
      "source": [
        "from tensorflow.keras.preprocessing import image_dataset_from_directory\n",
        "import numpy as np\n",
        "\n",
        "# Image size used by ResNet\n",
        "img_size = (128, 128)\n",
        "batch_size = 16\n",
        "\n",
        "train_ds = image_dataset_from_directory(\n",
        "    train_dir,\n",
        "    image_size=img_size,\n",
        "    batch_size=batch_size,\n",
        "    label_mode='categorical'\n",
        ")\n",
        "\n",
        "valid_ds = image_dataset_from_directory(\n",
        "    valid_dir,\n",
        "    image_size=img_size,\n",
        "    batch_size=batch_size,\n",
        "    label_mode='categorical'\n",
        ")\n",
        "\n",
        "class_names = train_ds.class_names\n",
        "print(\"Total disease classes are:\", len(class_names))"
      ],
      "metadata": {
        "id": "8hKL22aTpmBw",
        "colab": {
          "base_uri": "https://localhost:8080/"
        },
        "outputId": "7b4c6d68-7761-419d-bc26-b17b2189e919"
      },
      "execution_count": null,
      "outputs": [
        {
          "output_type": "stream",
          "name": "stdout",
          "text": [
            "Found 70295 files belonging to 38 classes.\n",
            "Found 17572 files belonging to 38 classes.\n",
            "Total disease classes are: 38\n"
          ]
        }
      ]
    },
    {
      "cell_type": "code",
      "source": [
        "from tensorflow.keras.applications.resnet50 import preprocess_input\n",
        "\n",
        "AUTOTUNE = tf.data.AUTOTUNE\n",
        "\n",
        "train_ds = train_ds.map(lambda x, y: (preprocess_input(x), y)).cache().shuffle(1000).prefetch(buffer_size=AUTOTUNE)\n",
        "valid_ds = valid_ds.map(lambda x, y: (preprocess_input(x), y)).cache().prefetch(buffer_size=AUTOTUNE)"
      ],
      "metadata": {
        "id": "20A9pfq5PHQU"
      },
      "execution_count": null,
      "outputs": []
    },
    {
      "cell_type": "code",
      "source": [
        "from tensorflow.keras.applications import ResNet50\n",
        "from tensorflow.keras import layers, models\n",
        "\n",
        "base_model = ResNet50(include_top=False, input_shape=(128, 128, 3), weights='imagenet')\n",
        "base_model.trainable = False  # Freeze for transfer learning\n",
        "\n",
        "model = models.Sequential([\n",
        "    base_model,\n",
        "    layers.GlobalAveragePooling2D(),\n",
        "    layers.Dense(256, activation='relu'),\n",
        "    layers.Dropout(0.5),\n",
        "    layers.Dense(len(class_names), activation='softmax')\n",
        "])\n",
        "\n",
        "model.compile(optimizer='adam',\n",
        "              loss='categorical_crossentropy',\n",
        "              metrics=['accuracy'])\n",
        "\n",
        "model.summary()"
      ],
      "metadata": {
        "colab": {
          "base_uri": "https://localhost:8080/",
          "height": 305
        },
        "id": "Hbso4_LmPKWI",
        "outputId": "db5d463a-be01-4c43-9fc1-94e1160e2b72"
      },
      "execution_count": null,
      "outputs": [
        {
          "output_type": "display_data",
          "data": {
            "text/plain": [
              "\u001b[1mModel: \"sequential\"\u001b[0m\n"
            ],
            "text/html": [
              "<pre style=\"white-space:pre;overflow-x:auto;line-height:normal;font-family:Menlo,'DejaVu Sans Mono',consolas,'Courier New',monospace\"><span style=\"font-weight: bold\">Model: \"sequential\"</span>\n",
              "</pre>\n"
            ]
          },
          "metadata": {}
        },
        {
          "output_type": "display_data",
          "data": {
            "text/plain": [
              "┏━━━━━━━━━━━━━━━━━━━━━━━━━━━━━━━━━┳━━━━━━━━━━━━━━━━━━━━━━━━┳━━━━━━━━━━━━━━━┓\n",
              "┃\u001b[1m \u001b[0m\u001b[1mLayer (type)                   \u001b[0m\u001b[1m \u001b[0m┃\u001b[1m \u001b[0m\u001b[1mOutput Shape          \u001b[0m\u001b[1m \u001b[0m┃\u001b[1m \u001b[0m\u001b[1m      Param #\u001b[0m\u001b[1m \u001b[0m┃\n",
              "┡━━━━━━━━━━━━━━━━━━━━━━━━━━━━━━━━━╇━━━━━━━━━━━━━━━━━━━━━━━━╇━━━━━━━━━━━━━━━┩\n",
              "│ resnet50 (\u001b[38;5;33mFunctional\u001b[0m)           │ (\u001b[38;5;45mNone\u001b[0m, \u001b[38;5;34m4\u001b[0m, \u001b[38;5;34m4\u001b[0m, \u001b[38;5;34m2048\u001b[0m)     │    \u001b[38;5;34m23,587,712\u001b[0m │\n",
              "├─────────────────────────────────┼────────────────────────┼───────────────┤\n",
              "│ global_average_pooling2d        │ (\u001b[38;5;45mNone\u001b[0m, \u001b[38;5;34m2048\u001b[0m)           │             \u001b[38;5;34m0\u001b[0m │\n",
              "│ (\u001b[38;5;33mGlobalAveragePooling2D\u001b[0m)        │                        │               │\n",
              "├─────────────────────────────────┼────────────────────────┼───────────────┤\n",
              "│ dense (\u001b[38;5;33mDense\u001b[0m)                   │ (\u001b[38;5;45mNone\u001b[0m, \u001b[38;5;34m256\u001b[0m)            │       \u001b[38;5;34m524,544\u001b[0m │\n",
              "├─────────────────────────────────┼────────────────────────┼───────────────┤\n",
              "│ dropout (\u001b[38;5;33mDropout\u001b[0m)               │ (\u001b[38;5;45mNone\u001b[0m, \u001b[38;5;34m256\u001b[0m)            │             \u001b[38;5;34m0\u001b[0m │\n",
              "├─────────────────────────────────┼────────────────────────┼───────────────┤\n",
              "│ dense_1 (\u001b[38;5;33mDense\u001b[0m)                 │ (\u001b[38;5;45mNone\u001b[0m, \u001b[38;5;34m38\u001b[0m)             │         \u001b[38;5;34m9,766\u001b[0m │\n",
              "└─────────────────────────────────┴────────────────────────┴───────────────┘\n"
            ],
            "text/html": [
              "<pre style=\"white-space:pre;overflow-x:auto;line-height:normal;font-family:Menlo,'DejaVu Sans Mono',consolas,'Courier New',monospace\">┏━━━━━━━━━━━━━━━━━━━━━━━━━━━━━━━━━┳━━━━━━━━━━━━━━━━━━━━━━━━┳━━━━━━━━━━━━━━━┓\n",
              "┃<span style=\"font-weight: bold\"> Layer (type)                    </span>┃<span style=\"font-weight: bold\"> Output Shape           </span>┃<span style=\"font-weight: bold\">       Param # </span>┃\n",
              "┡━━━━━━━━━━━━━━━━━━━━━━━━━━━━━━━━━╇━━━━━━━━━━━━━━━━━━━━━━━━╇━━━━━━━━━━━━━━━┩\n",
              "│ resnet50 (<span style=\"color: #0087ff; text-decoration-color: #0087ff\">Functional</span>)           │ (<span style=\"color: #00d7ff; text-decoration-color: #00d7ff\">None</span>, <span style=\"color: #00af00; text-decoration-color: #00af00\">4</span>, <span style=\"color: #00af00; text-decoration-color: #00af00\">4</span>, <span style=\"color: #00af00; text-decoration-color: #00af00\">2048</span>)     │    <span style=\"color: #00af00; text-decoration-color: #00af00\">23,587,712</span> │\n",
              "├─────────────────────────────────┼────────────────────────┼───────────────┤\n",
              "│ global_average_pooling2d        │ (<span style=\"color: #00d7ff; text-decoration-color: #00d7ff\">None</span>, <span style=\"color: #00af00; text-decoration-color: #00af00\">2048</span>)           │             <span style=\"color: #00af00; text-decoration-color: #00af00\">0</span> │\n",
              "│ (<span style=\"color: #0087ff; text-decoration-color: #0087ff\">GlobalAveragePooling2D</span>)        │                        │               │\n",
              "├─────────────────────────────────┼────────────────────────┼───────────────┤\n",
              "│ dense (<span style=\"color: #0087ff; text-decoration-color: #0087ff\">Dense</span>)                   │ (<span style=\"color: #00d7ff; text-decoration-color: #00d7ff\">None</span>, <span style=\"color: #00af00; text-decoration-color: #00af00\">256</span>)            │       <span style=\"color: #00af00; text-decoration-color: #00af00\">524,544</span> │\n",
              "├─────────────────────────────────┼────────────────────────┼───────────────┤\n",
              "│ dropout (<span style=\"color: #0087ff; text-decoration-color: #0087ff\">Dropout</span>)               │ (<span style=\"color: #00d7ff; text-decoration-color: #00d7ff\">None</span>, <span style=\"color: #00af00; text-decoration-color: #00af00\">256</span>)            │             <span style=\"color: #00af00; text-decoration-color: #00af00\">0</span> │\n",
              "├─────────────────────────────────┼────────────────────────┼───────────────┤\n",
              "│ dense_1 (<span style=\"color: #0087ff; text-decoration-color: #0087ff\">Dense</span>)                 │ (<span style=\"color: #00d7ff; text-decoration-color: #00d7ff\">None</span>, <span style=\"color: #00af00; text-decoration-color: #00af00\">38</span>)             │         <span style=\"color: #00af00; text-decoration-color: #00af00\">9,766</span> │\n",
              "└─────────────────────────────────┴────────────────────────┴───────────────┘\n",
              "</pre>\n"
            ]
          },
          "metadata": {}
        },
        {
          "output_type": "display_data",
          "data": {
            "text/plain": [
              "\u001b[1m Total params: \u001b[0m\u001b[38;5;34m24,122,022\u001b[0m (92.02 MB)\n"
            ],
            "text/html": [
              "<pre style=\"white-space:pre;overflow-x:auto;line-height:normal;font-family:Menlo,'DejaVu Sans Mono',consolas,'Courier New',monospace\"><span style=\"font-weight: bold\"> Total params: </span><span style=\"color: #00af00; text-decoration-color: #00af00\">24,122,022</span> (92.02 MB)\n",
              "</pre>\n"
            ]
          },
          "metadata": {}
        },
        {
          "output_type": "display_data",
          "data": {
            "text/plain": [
              "\u001b[1m Trainable params: \u001b[0m\u001b[38;5;34m534,310\u001b[0m (2.04 MB)\n"
            ],
            "text/html": [
              "<pre style=\"white-space:pre;overflow-x:auto;line-height:normal;font-family:Menlo,'DejaVu Sans Mono',consolas,'Courier New',monospace\"><span style=\"font-weight: bold\"> Trainable params: </span><span style=\"color: #00af00; text-decoration-color: #00af00\">534,310</span> (2.04 MB)\n",
              "</pre>\n"
            ]
          },
          "metadata": {}
        },
        {
          "output_type": "display_data",
          "data": {
            "text/plain": [
              "\u001b[1m Non-trainable params: \u001b[0m\u001b[38;5;34m23,587,712\u001b[0m (89.98 MB)\n"
            ],
            "text/html": [
              "<pre style=\"white-space:pre;overflow-x:auto;line-height:normal;font-family:Menlo,'DejaVu Sans Mono',consolas,'Courier New',monospace\"><span style=\"font-weight: bold\"> Non-trainable params: </span><span style=\"color: #00af00; text-decoration-color: #00af00\">23,587,712</span> (89.98 MB)\n",
              "</pre>\n"
            ]
          },
          "metadata": {}
        }
      ]
    },
    {
      "cell_type": "code",
      "source": [
        "epochs = 5\n",
        "history = model.fit(\n",
        "    train_ds,\n",
        "    validation_data=valid_ds,\n",
        "    epochs=epochs\n",
        ")"
      ],
      "metadata": {
        "colab": {
          "base_uri": "https://localhost:8080/"
        },
        "id": "JoSPsWm4PM30",
        "outputId": "e67f50c7-a389-4220-a2f4-e6fc836443b0"
      },
      "execution_count": null,
      "outputs": [
        {
          "output_type": "stream",
          "name": "stdout",
          "text": [
            "Epoch 1/5\n",
            "\u001b[1m3514/3514\u001b[0m \u001b[32m━━━━━━━━━━━━━━━━━━━━\u001b[0m\u001b[37m\u001b[0m \u001b[1m152s\u001b[0m 39ms/step - accuracy: 0.6706 - loss: 1.1532 - val_accuracy: 0.9179 - val_loss: 0.2439\n",
            "Epoch 2/5\n",
            "\u001b[1m3514/3514\u001b[0m \u001b[32m━━━━━━━━━━━━━━━━━━━━\u001b[0m\u001b[37m\u001b[0m \u001b[1m165s\u001b[0m 30ms/step - accuracy: 0.8512 - loss: 0.4578 - val_accuracy: 0.9302 - val_loss: 0.2019\n",
            "Epoch 3/5\n",
            "\u001b[1m3514/3514\u001b[0m \u001b[32m━━━━━━━━━━━━━━━━━━━━\u001b[0m\u001b[37m\u001b[0m \u001b[1m123s\u001b[0m 25ms/step - accuracy: 0.8751 - loss: 0.3905 - val_accuracy: 0.9412 - val_loss: 0.1813\n",
            "Epoch 4/5\n",
            "\u001b[1m3514/3514\u001b[0m \u001b[32m━━━━━━━━━━━━━━━━━━━━\u001b[0m\u001b[37m\u001b[0m \u001b[1m141s\u001b[0m 25ms/step - accuracy: 0.8879 - loss: 0.3582 - val_accuracy: 0.9404 - val_loss: 0.1812\n",
            "Epoch 5/5\n",
            "\u001b[1m3514/3514\u001b[0m \u001b[32m━━━━━━━━━━━━━━━━━━━━\u001b[0m\u001b[37m\u001b[0m \u001b[1m89s\u001b[0m 25ms/step - accuracy: 0.8960 - loss: 0.3337 - val_accuracy: 0.9488 - val_loss: 0.1629\n"
          ]
        }
      ]
    },
    {
      "cell_type": "code",
      "source": [
        "tf.keras.models.save_model(model, 'updated_resnet80.h5')"
      ],
      "metadata": {
        "colab": {
          "base_uri": "https://localhost:8080/"
        },
        "id": "YyaRJ3PeQtrC",
        "outputId": "c6ecc460-3a75-4be4-837a-8a19f947d630"
      },
      "execution_count": null,
      "outputs": [
        {
          "output_type": "stream",
          "name": "stderr",
          "text": [
            "WARNING:absl:You are saving your model as an HDF5 file via `model.save()` or `keras.saving.save_model(model)`. This file format is considered legacy. We recommend using instead the native Keras format, e.g. `model.save('my_model.keras')` or `keras.saving.save_model(model, 'my_model.keras')`. \n"
          ]
        }
      ]
    },
    {
      "cell_type": "code",
      "source": [
        "# Evaluate\n",
        "loss, acc = model.evaluate(valid_ds)\n",
        "print(f\"Validation Accuracy: {acc*100:.2f}%\")\n",
        "\n",
        "# Predict\n",
        "def predict_image(path):\n",
        "    img = tf.keras.utils.load_img(path, target_size=(128, 128))\n",
        "    img_array = tf.keras.utils.img_to_array(img)\n",
        "    img_array = preprocess_input(img_array)\n",
        "    img_array = tf.expand_dims(img_array, 0)\n",
        "\n",
        "    predictions = model.predict(img_array)\n",
        "    predicted_class = class_names[np.argmax(predictions)]\n",
        "    confidence = np.max(predictions)\n",
        "\n",
        "    return predicted_class, confidence"
      ],
      "metadata": {
        "id": "D13iccUdPPZM"
      },
      "execution_count": null,
      "outputs": []
    },
    {
      "cell_type": "code",
      "source": [
        "from tensorflow.keras.preprocessing import image_dataset_from_directory\n",
        "import numpy as np\n",
        "\n",
        "# Image size used by ResNet\n",
        "img_size = (128, 128)\n",
        "batch_size = 16\n",
        "\n",
        "train_ds = image_dataset_from_directory(\n",
        "    train_dir,\n",
        "    image_size=img_size,\n",
        "    batch_size=batch_size,\n",
        "    label_mode='categorical'\n",
        ")\n",
        "\n",
        "valid_ds = image_dataset_from_directory(\n",
        "    valid_dir,\n",
        "    image_size=img_size,\n",
        "    batch_size=batch_size,\n",
        "    label_mode='categorical'\n",
        ")\n",
        "\n",
        "class_names = train_ds.class_names\n",
        "print(\"Total disease classes are:\", len(class_names))"
      ],
      "metadata": {
        "colab": {
          "base_uri": "https://localhost:8080/"
        },
        "id": "JSDyDaGQW22Y",
        "outputId": "757cb373-bc1e-435b-99e8-527c65e248e0"
      },
      "execution_count": null,
      "outputs": [
        {
          "output_type": "stream",
          "name": "stdout",
          "text": [
            "Found 70295 files belonging to 38 classes.\n",
            "Found 17572 files belonging to 38 classes.\n",
            "Total disease classes are: 38\n"
          ]
        }
      ]
    },
    {
      "cell_type": "code",
      "source": [
        "from tensorflow.keras.applications import ResNet50\n",
        "from tensorflow.keras import layers, models\n",
        "\n",
        "base_model = ResNet50(include_top=False, input_shape=(128, 128, 3), weights='imagenet')\n",
        "base_model.trainable = False  # Freeze for transfer learning\n",
        "\n",
        "model = models.Sequential([\n",
        "    base_model,\n",
        "    layers.GlobalAveragePooling2D(),\n",
        "    layers.Dense(256, activation='relu'),\n",
        "    layers.Dropout(0.5),\n",
        "    layers.Dense(len(class_names), activation='softmax')\n",
        "])\n",
        "\n",
        "model.compile(optimizer='adam',\n",
        "              loss='categorical_crossentropy',\n",
        "              metrics=['accuracy'])\n",
        "\n",
        "model.summary()"
      ],
      "metadata": {
        "colab": {
          "base_uri": "https://localhost:8080/",
          "height": 305
        },
        "id": "7wZi7l0dW6fF",
        "outputId": "4d99a37a-1fd0-4bc3-d3f2-1ba3ef40b723"
      },
      "execution_count": null,
      "outputs": [
        {
          "output_type": "display_data",
          "data": {
            "text/plain": [
              "\u001b[1mModel: \"sequential_1\"\u001b[0m\n"
            ],
            "text/html": [
              "<pre style=\"white-space:pre;overflow-x:auto;line-height:normal;font-family:Menlo,'DejaVu Sans Mono',consolas,'Courier New',monospace\"><span style=\"font-weight: bold\">Model: \"sequential_1\"</span>\n",
              "</pre>\n"
            ]
          },
          "metadata": {}
        },
        {
          "output_type": "display_data",
          "data": {
            "text/plain": [
              "┏━━━━━━━━━━━━━━━━━━━━━━━━━━━━━━━━━┳━━━━━━━━━━━━━━━━━━━━━━━━┳━━━━━━━━━━━━━━━┓\n",
              "┃\u001b[1m \u001b[0m\u001b[1mLayer (type)                   \u001b[0m\u001b[1m \u001b[0m┃\u001b[1m \u001b[0m\u001b[1mOutput Shape          \u001b[0m\u001b[1m \u001b[0m┃\u001b[1m \u001b[0m\u001b[1m      Param #\u001b[0m\u001b[1m \u001b[0m┃\n",
              "┡━━━━━━━━━━━━━━━━━━━━━━━━━━━━━━━━━╇━━━━━━━━━━━━━━━━━━━━━━━━╇━━━━━━━━━━━━━━━┩\n",
              "│ resnet50 (\u001b[38;5;33mFunctional\u001b[0m)           │ (\u001b[38;5;45mNone\u001b[0m, \u001b[38;5;34m4\u001b[0m, \u001b[38;5;34m4\u001b[0m, \u001b[38;5;34m2048\u001b[0m)     │    \u001b[38;5;34m23,587,712\u001b[0m │\n",
              "├─────────────────────────────────┼────────────────────────┼───────────────┤\n",
              "│ global_average_pooling2d_1      │ (\u001b[38;5;45mNone\u001b[0m, \u001b[38;5;34m2048\u001b[0m)           │             \u001b[38;5;34m0\u001b[0m │\n",
              "│ (\u001b[38;5;33mGlobalAveragePooling2D\u001b[0m)        │                        │               │\n",
              "├─────────────────────────────────┼────────────────────────┼───────────────┤\n",
              "│ dense_2 (\u001b[38;5;33mDense\u001b[0m)                 │ (\u001b[38;5;45mNone\u001b[0m, \u001b[38;5;34m256\u001b[0m)            │       \u001b[38;5;34m524,544\u001b[0m │\n",
              "├─────────────────────────────────┼────────────────────────┼───────────────┤\n",
              "│ dropout_1 (\u001b[38;5;33mDropout\u001b[0m)             │ (\u001b[38;5;45mNone\u001b[0m, \u001b[38;5;34m256\u001b[0m)            │             \u001b[38;5;34m0\u001b[0m │\n",
              "├─────────────────────────────────┼────────────────────────┼───────────────┤\n",
              "│ dense_3 (\u001b[38;5;33mDense\u001b[0m)                 │ (\u001b[38;5;45mNone\u001b[0m, \u001b[38;5;34m38\u001b[0m)             │         \u001b[38;5;34m9,766\u001b[0m │\n",
              "└─────────────────────────────────┴────────────────────────┴───────────────┘\n"
            ],
            "text/html": [
              "<pre style=\"white-space:pre;overflow-x:auto;line-height:normal;font-family:Menlo,'DejaVu Sans Mono',consolas,'Courier New',monospace\">┏━━━━━━━━━━━━━━━━━━━━━━━━━━━━━━━━━┳━━━━━━━━━━━━━━━━━━━━━━━━┳━━━━━━━━━━━━━━━┓\n",
              "┃<span style=\"font-weight: bold\"> Layer (type)                    </span>┃<span style=\"font-weight: bold\"> Output Shape           </span>┃<span style=\"font-weight: bold\">       Param # </span>┃\n",
              "┡━━━━━━━━━━━━━━━━━━━━━━━━━━━━━━━━━╇━━━━━━━━━━━━━━━━━━━━━━━━╇━━━━━━━━━━━━━━━┩\n",
              "│ resnet50 (<span style=\"color: #0087ff; text-decoration-color: #0087ff\">Functional</span>)           │ (<span style=\"color: #00d7ff; text-decoration-color: #00d7ff\">None</span>, <span style=\"color: #00af00; text-decoration-color: #00af00\">4</span>, <span style=\"color: #00af00; text-decoration-color: #00af00\">4</span>, <span style=\"color: #00af00; text-decoration-color: #00af00\">2048</span>)     │    <span style=\"color: #00af00; text-decoration-color: #00af00\">23,587,712</span> │\n",
              "├─────────────────────────────────┼────────────────────────┼───────────────┤\n",
              "│ global_average_pooling2d_1      │ (<span style=\"color: #00d7ff; text-decoration-color: #00d7ff\">None</span>, <span style=\"color: #00af00; text-decoration-color: #00af00\">2048</span>)           │             <span style=\"color: #00af00; text-decoration-color: #00af00\">0</span> │\n",
              "│ (<span style=\"color: #0087ff; text-decoration-color: #0087ff\">GlobalAveragePooling2D</span>)        │                        │               │\n",
              "├─────────────────────────────────┼────────────────────────┼───────────────┤\n",
              "│ dense_2 (<span style=\"color: #0087ff; text-decoration-color: #0087ff\">Dense</span>)                 │ (<span style=\"color: #00d7ff; text-decoration-color: #00d7ff\">None</span>, <span style=\"color: #00af00; text-decoration-color: #00af00\">256</span>)            │       <span style=\"color: #00af00; text-decoration-color: #00af00\">524,544</span> │\n",
              "├─────────────────────────────────┼────────────────────────┼───────────────┤\n",
              "│ dropout_1 (<span style=\"color: #0087ff; text-decoration-color: #0087ff\">Dropout</span>)             │ (<span style=\"color: #00d7ff; text-decoration-color: #00d7ff\">None</span>, <span style=\"color: #00af00; text-decoration-color: #00af00\">256</span>)            │             <span style=\"color: #00af00; text-decoration-color: #00af00\">0</span> │\n",
              "├─────────────────────────────────┼────────────────────────┼───────────────┤\n",
              "│ dense_3 (<span style=\"color: #0087ff; text-decoration-color: #0087ff\">Dense</span>)                 │ (<span style=\"color: #00d7ff; text-decoration-color: #00d7ff\">None</span>, <span style=\"color: #00af00; text-decoration-color: #00af00\">38</span>)             │         <span style=\"color: #00af00; text-decoration-color: #00af00\">9,766</span> │\n",
              "└─────────────────────────────────┴────────────────────────┴───────────────┘\n",
              "</pre>\n"
            ]
          },
          "metadata": {}
        },
        {
          "output_type": "display_data",
          "data": {
            "text/plain": [
              "\u001b[1m Total params: \u001b[0m\u001b[38;5;34m24,122,022\u001b[0m (92.02 MB)\n"
            ],
            "text/html": [
              "<pre style=\"white-space:pre;overflow-x:auto;line-height:normal;font-family:Menlo,'DejaVu Sans Mono',consolas,'Courier New',monospace\"><span style=\"font-weight: bold\"> Total params: </span><span style=\"color: #00af00; text-decoration-color: #00af00\">24,122,022</span> (92.02 MB)\n",
              "</pre>\n"
            ]
          },
          "metadata": {}
        },
        {
          "output_type": "display_data",
          "data": {
            "text/plain": [
              "\u001b[1m Trainable params: \u001b[0m\u001b[38;5;34m534,310\u001b[0m (2.04 MB)\n"
            ],
            "text/html": [
              "<pre style=\"white-space:pre;overflow-x:auto;line-height:normal;font-family:Menlo,'DejaVu Sans Mono',consolas,'Courier New',monospace\"><span style=\"font-weight: bold\"> Trainable params: </span><span style=\"color: #00af00; text-decoration-color: #00af00\">534,310</span> (2.04 MB)\n",
              "</pre>\n"
            ]
          },
          "metadata": {}
        },
        {
          "output_type": "display_data",
          "data": {
            "text/plain": [
              "\u001b[1m Non-trainable params: \u001b[0m\u001b[38;5;34m23,587,712\u001b[0m (89.98 MB)\n"
            ],
            "text/html": [
              "<pre style=\"white-space:pre;overflow-x:auto;line-height:normal;font-family:Menlo,'DejaVu Sans Mono',consolas,'Courier New',monospace\"><span style=\"font-weight: bold\"> Non-trainable params: </span><span style=\"color: #00af00; text-decoration-color: #00af00\">23,587,712</span> (89.98 MB)\n",
              "</pre>\n"
            ]
          },
          "metadata": {}
        }
      ]
    },
    {
      "cell_type": "code",
      "source": [
        "epochs = 10\n",
        "history100 = model.fit(\n",
        "    train_ds,\n",
        "    validation_data=valid_ds,\n",
        "    epochs=epochs\n",
        ")"
      ],
      "metadata": {
        "colab": {
          "base_uri": "https://localhost:8080/"
        },
        "id": "hlCetIc9XNQq",
        "outputId": "a600c3e2-ecdc-4715-b31d-1752441701f4"
      },
      "execution_count": null,
      "outputs": [
        {
          "output_type": "stream",
          "name": "stdout",
          "text": [
            "Epoch 1/10\n",
            "\u001b[1m4394/4394\u001b[0m \u001b[32m━━━━━━━━━━━━━━━━━━━━\u001b[0m\u001b[37m\u001b[0m \u001b[1m254s\u001b[0m 55ms/step - accuracy: 0.6871 - loss: 1.0807 - val_accuracy: 0.9076 - val_loss: 0.2724\n",
            "Epoch 2/10\n",
            "\u001b[1m4394/4394\u001b[0m \u001b[32m━━━━━━━━━━━━━━━━━━━━\u001b[0m\u001b[37m\u001b[0m \u001b[1m129s\u001b[0m 29ms/step - accuracy: 0.8583 - loss: 0.4352 - val_accuracy: 0.9356 - val_loss: 0.1911\n",
            "Epoch 3/10\n",
            "\u001b[1m4394/4394\u001b[0m \u001b[32m━━━━━━━━━━━━━━━━━━━━\u001b[0m\u001b[37m\u001b[0m \u001b[1m129s\u001b[0m 29ms/step - accuracy: 0.8772 - loss: 0.3858 - val_accuracy: 0.9411 - val_loss: 0.1724\n",
            "Epoch 4/10\n",
            "\u001b[1m4394/4394\u001b[0m \u001b[32m━━━━━━━━━━━━━━━━━━━━\u001b[0m\u001b[37m\u001b[0m \u001b[1m109s\u001b[0m 25ms/step - accuracy: 0.8907 - loss: 0.3460 - val_accuracy: 0.9402 - val_loss: 0.1788\n",
            "Epoch 5/10\n",
            "\u001b[1m4394/4394\u001b[0m \u001b[32m━━━━━━━━━━━━━━━━━━━━\u001b[0m\u001b[37m\u001b[0m \u001b[1m107s\u001b[0m 24ms/step - accuracy: 0.8994 - loss: 0.3186 - val_accuracy: 0.9459 - val_loss: 0.1679\n",
            "Epoch 6/10\n",
            "\u001b[1m4394/4394\u001b[0m \u001b[32m━━━━━━━━━━━━━━━━━━━━\u001b[0m\u001b[37m\u001b[0m \u001b[1m163s\u001b[0m 29ms/step - accuracy: 0.9035 - loss: 0.3056 - val_accuracy: 0.9510 - val_loss: 0.1517\n",
            "Epoch 7/10\n",
            "\u001b[1m4394/4394\u001b[0m \u001b[32m━━━━━━━━━━━━━━━━━━━━\u001b[0m\u001b[37m\u001b[0m \u001b[1m121s\u001b[0m 24ms/step - accuracy: 0.9079 - loss: 0.2885 - val_accuracy: 0.9504 - val_loss: 0.1692\n",
            "Epoch 8/10\n",
            "\u001b[1m4394/4394\u001b[0m \u001b[32m━━━━━━━━━━━━━━━━━━━━\u001b[0m\u001b[37m\u001b[0m \u001b[1m164s\u001b[0m 29ms/step - accuracy: 0.9113 - loss: 0.2851 - val_accuracy: 0.9536 - val_loss: 0.1475\n",
            "Epoch 9/10\n",
            "\u001b[1m4394/4394\u001b[0m \u001b[32m━━━━━━━━━━━━━━━━━━━━\u001b[0m\u001b[37m\u001b[0m \u001b[1m121s\u001b[0m 25ms/step - accuracy: 0.9179 - loss: 0.2699 - val_accuracy: 0.9519 - val_loss: 0.1545\n",
            "Epoch 10/10\n",
            "\u001b[1m4394/4394\u001b[0m \u001b[32m━━━━━━━━━━━━━━━━━━━━\u001b[0m\u001b[37m\u001b[0m \u001b[1m141s\u001b[0m 24ms/step - accuracy: 0.9206 - loss: 0.2665 - val_accuracy: 0.9533 - val_loss: 0.1529\n"
          ]
        }
      ]
    },
    {
      "cell_type": "code",
      "source": [
        "tf.keras.models.save_model(model, 'updated_resnet100.h5')"
      ],
      "metadata": {
        "colab": {
          "base_uri": "https://localhost:8080/"
        },
        "id": "qBNWOXpAXczt",
        "outputId": "1d14320b-cc40-45d2-a18c-c2402bbc54ce"
      },
      "execution_count": null,
      "outputs": [
        {
          "output_type": "stream",
          "name": "stderr",
          "text": [
            "WARNING:absl:You are saving your model as an HDF5 file via `model.save()` or `keras.saving.save_model(model)`. This file format is considered legacy. We recommend using instead the native Keras format, e.g. `model.save('my_model.keras')` or `keras.saving.save_model(model, 'my_model.keras')`. \n"
          ]
        }
      ]
    },
    {
      "cell_type": "code",
      "source": [
        "import helper_functions\n",
        "from helper_functions import compare_historys, plot_loss_curves"
      ],
      "metadata": {
        "id": "itzfS5Qnc-Ee"
      },
      "execution_count": null,
      "outputs": []
    },
    {
      "cell_type": "code",
      "source": [
        "plot_loss_curves(history100)"
      ],
      "metadata": {
        "colab": {
          "base_uri": "https://localhost:8080/",
          "height": 927
        },
        "id": "6fRfAg5QdFd9",
        "outputId": "ce29e241-2001-4386-d9a9-da61a44bcba4"
      },
      "execution_count": null,
      "outputs": [
        {
          "output_type": "display_data",
          "data": {
            "text/plain": [
              "<Figure size 640x480 with 1 Axes>"
            ],
            "image/png": "[encoded data removed]"
          },
          "metadata": {}
        },
        {
          "output_type": "display_data",
          "data": {
            "text/plain": [
              "<Figure size 640x480 with 1 Axes>"
            ],
            "image/png": "[encoded data removed]"
          },
          "metadata": {}
        }
      ]
    },
    {
      "cell_type": "code",
      "source": [
        "import numpy as np\n",
        "import tensorflow as tf\n",
        "from sklearn.metrics import confusion_matrix, classification_report\n",
        "import matplotlib.pyplot as plt\n",
        "import seaborn as sns\n",
        "\n",
        "# Get true labels and predictions from val_ds\n",
        "y_true = []\n",
        "y_pred = []\n",
        "\n",
        "for images, labels in valid_ds:\n",
        "    preds = model.predict(images, verbose=0)\n",
        "    y_true.extend(labels.numpy())\n",
        "    y_pred.extend(np.argmax(preds, axis=1))\n",
        "\n",
        "y_true = np.array(y_true)\n",
        "y_pred = np.array(y_pred)"
      ],
      "metadata": {
        "id": "tEzsCpHadMMc"
      },
      "execution_count": null,
      "outputs": []
    },
    {
      "cell_type": "code",
      "source": [
        "import matplotlib.pyplot as plt\n",
        "import numpy as np\n",
        "import itertools\n",
        "from sklearn.metrics import confusion_matrix\n",
        "\n",
        "def make_confusion_matrix2(y_true,\n",
        "                           y_pred,\n",
        "                           classes=None,\n",
        "                           figsize=(14, 14),\n",
        "                           text_size=10,\n",
        "                           norm=False,\n",
        "                           savefig=False,\n",
        "                           filename=\"confusion_matrix.png\"):\n",
        "    \"\"\"\n",
        "    Plots a labeled confusion matrix.\n",
        "    \"\"\"\n",
        "\n",
        "    cm = confusion_matrix(y_true, y_pred)\n",
        "    cm_norm = cm.astype(\"float\") / cm.sum(axis=1)[:, np.newaxis] if norm else None\n",
        "    n_classes = cm.shape[0]\n",
        "\n",
        "    # Adjust figure size automatically for large numbers of classes\n",
        "    if n_classes > 30:\n",
        "        figsize = (max(18, n_classes * 0.4), max(18, n_classes * 0.4))\n",
        "\n",
        "    fig, ax = plt.subplots(figsize=figsize)\n",
        "    cax = ax.matshow(cm, cmap=plt.cm.Blues)\n",
        "    fig.colorbar(cax)\n",
        "\n",
        "    # Label setup\n",
        "    labels = classes if classes else np.arange(n_classes)\n",
        "\n",
        "    # Truncate long labels for display\n",
        "    short_labels = [label[:30] + \"...\" if len(label) > 30 else label for label in labels]\n",
        "\n",
        "    ax.set(title=\"Confusion Matrix\",\n",
        "        xlabel=\"Predicted label\",\n",
        "        ylabel=\"True label\",\n",
        "        xticks=np.arange(n_classes),\n",
        "        yticks=np.arange(n_classes),\n",
        "        xticklabels=short_labels,\n",
        "        yticklabels=short_labels)\n",
        "\n",
        "\n",
        "    ax.xaxis.set_label_position(\"bottom\")\n",
        "    ax.xaxis.tick_bottom()\n",
        "\n",
        "    # Rotate x-axis labels for better alignment\n",
        "    plt.setp(ax.get_xticklabels(),\n",
        "             rotation=90,\n",
        "             ha=\"right\",\n",
        "             rotation_mode=\"anchor\",\n",
        "             fontsize=text_size)\n",
        "    plt.setp(ax.get_yticklabels(), fontsize=text_size)\n",
        "\n",
        "    # Add gridlines\n",
        "    ax.set_xticks(np.arange(n_classes + 1) - 0.5, minor=True)\n",
        "    ax.set_yticks(np.arange(n_classes + 1) - 0.5, minor=True)\n",
        "    ax.grid(which=\"minor\", color=\"gray\", linestyle=\":\", linewidth=0.5)\n",
        "    ax.tick_params(which=\"minor\", bottom=False, left=False)\n",
        "\n",
        "    # Set the text threshold\n",
        "    threshold = (cm.max() + cm.min()) / 2.\n",
        "\n",
        "    # Add text annotations\n",
        "    for i, j in itertools.product(range(cm.shape[0]), range(cm.shape[1])):\n",
        "        if norm:\n",
        "            text = f\"{cm[i, j]}\\n({cm_norm[i, j]*100:.1f}%)\"\n",
        "        else:\n",
        "            text = str(cm[i, j])\n",
        "        ax.text(j, i,\n",
        "                text,\n",
        "                ha=\"center\", va=\"center\",\n",
        "                color=\"white\" if cm[i, j] > threshold else \"black\",\n",
        "                fontsize=text_size)\n",
        "\n",
        "    plt.tight_layout()\n",
        "\n",
        "    # Save figure\n",
        "    if savefig:\n",
        "        fig.savefig(filename, dpi=300, bbox_inches=\"tight\")\n",
        "\n",
        "    plt.show()"
      ],
      "metadata": {
        "id": "ZD5EkiYmd41Q"
      },
      "execution_count": null,
      "outputs": []
    },
    {
      "cell_type": "code",
      "source": [],
      "metadata": {
        "id": "GopFWZHnfrdj"
      },
      "execution_count": null,
      "outputs": []
    }
  ]
}